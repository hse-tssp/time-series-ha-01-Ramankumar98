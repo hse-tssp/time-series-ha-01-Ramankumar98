{
 "cells": [
  {
   "cell_type": "markdown",
   "metadata": {
    "id": "7gbsGZeScr3p"
   },
   "source": [
    "## Time Series Analysis: Home Assignment 1"
   ]
  },
  {
   "cell_type": "markdown",
   "metadata": {
    "id": "zHmdcoy2cr3t"
   },
   "source": [
    "due to **11.02.21 23:00**\n",
    "\n",
    "You need to upload HA1 to github repository,  the link will be provided later."
   ]
  },
  {
   "cell_type": "markdown",
   "metadata": {
    "id": "8mtZN7Yccr3u"
   },
   "source": [
    "Enter your name below: "
   ]
  },
  {
   "cell_type": "code",
   "execution_count": 155,
   "metadata": {
    "id": "jqPbENZqcr3w"
   },
   "outputs": [],
   "source": [
    "name='Kumar Raman' "
   ]
  },
  {
   "cell_type": "markdown",
   "metadata": {
    "id": "9HibLu_Wcr3x"
   },
   "source": [
    "### Contents"
   ]
  },
  {
   "cell_type": "markdown",
   "metadata": {
    "id": "zAz3FD8lcr3y"
   },
   "source": [
    "1. **Data preparation (7 points)**\n",
    "\n",
    "    $1.0$ Download data and import functions\n",
    "    \n",
    "    $1.1$ Read data (1 pt.)\n",
    "    \n",
    "    $1.2$ Check NAs (1 pt.)\n",
    "    \n",
    "    $1.3$ Transform dates (2 pt.)\n",
    "    \n",
    "    $1.4$. Make some plots (0.75 pt.)\n",
    "    \n",
    "    $1.5$ Split the data (0.75 pt.)\n",
    "    \n",
    " \n",
    "2. **ETS (7 points)**\n",
    "\n",
    "    $2.1$ Estimate ETS (1 pt.)\n",
    "    \n",
    "    $2.2$ Point forecasts (1 pt.)\n",
    "    \n",
    "    $2.3$ Interval forecasts 1 (1 pt.)\n",
    "    \n",
    "    $2.4$ Interval forecasts 2 (1 pt.)\n",
    "    \n",
    "    $2.5$ Forecast quality metrics (2 pt.)\n",
    "    \n",
    "    $2.6$ Model comparison (1 pt.)\n",
    "    "
   ]
  },
  {
   "cell_type": "markdown",
   "metadata": {
    "id": "0AIazRTmcr3z"
   },
   "source": [
    "## 1. Data preparation (7 pt.)"
   ]
  },
  {
   "cell_type": "markdown",
   "metadata": {
    "id": "y7jJFwC-cr30"
   },
   "source": [
    "### 1.0 Download data and import functions\n",
    "[back to contents](#Contents)"
   ]
  },
  {
   "cell_type": "markdown",
   "metadata": {
    "id": "SqbwZwVYcr30"
   },
   "source": [
    "You have to download [BI_TSA_HA_1_data.csv](https://github.com/bdemeshev/ts603/blob/master/2021-spring/BI_TSA_HA_1_data.csv), which represents quarterly sales of Walmart from 1984 to 2020. The sourse of the data is [ycharts.com](https://ycharts.com/companies/WMT/revenues). "
   ]
  },
  {
   "cell_type": "code",
   "execution_count": 156,
   "metadata": {
    "colab": {
     "base_uri": "https://localhost:8080/",
     "height": 510
    },
    "id": "4B6bi3mncr30",
    "outputId": "2a0ac0cf-a7d9-47a5-ec61-f3d34d591864"
   },
   "outputs": [],
   "source": [
    "import pandas as pd\n",
    "import numpy as np\n",
    "from sktime.utils.plotting import plot_series\n",
    "from sktime.forecasting.model_selection import temporal_train_test_split\n",
    "from statsmodels.tsa.exponential_smoothing.ets import ETSModel\n",
    "from sklearn.metrics import  mean_absolute_error, mean_squared_error"
   ]
  },
  {
   "cell_type": "markdown",
   "metadata": {
    "id": "6jtbpbD3cr31"
   },
   "source": [
    "### 1.1 Read data (1 pt.)\n",
    "[back to contents](#Contents)"
   ]
  },
  {
   "cell_type": "markdown",
   "metadata": {
    "id": "lyw913Z9cr31"
   },
   "source": [
    "Read the downloaded data from your local computer and name it ``` df ```\n",
    "\n",
    "Alternatively, you can skip 1.0 and access data directly putting ```'https://raw.github.com/bdemeshev/ts603/master/2021-spring/BI_TSA_HA_1_data.csv'``` inside ```read_csv```\n",
    "\n",
    "use ``` pd.read_csv('... .csv') ```"
   ]
  },
  {
   "cell_type": "code",
   "execution_count": 157,
   "metadata": {
    "colab": {
     "base_uri": "https://localhost:8080/"
    },
    "id": "INocAesZdbRd",
    "outputId": "98c3e1ae-fb38-4622-a895-1683bc068cc3"
   },
   "outputs": [
    {
     "name": "stdout",
     "output_type": "stream",
     "text": [
      "       sales  month  day  year\n",
      "0    134.710     10   31  2020\n",
      "1    137.740      7   31  2020\n",
      "2    134.620      4   30  2020\n",
      "3    141.670      1   31  2020\n",
      "4    127.990     10   31  2019\n",
      "..       ...    ...  ...   ...\n",
      "142    1.656      4   30  1985\n",
      "143    2.074      1   31  1985\n",
      "144    1.584     10   31  1984\n",
      "145    1.508      7   31  1984\n",
      "146    1.235      4   30  1984\n",
      "\n",
      "[147 rows x 4 columns]\n"
     ]
    }
   ],
   "source": [
    "df = pd.read_csv('https://raw.github.com/bdemeshev/ts603/master/2021-spring/BI_TSA_HA_1_data.csv')\n",
    "print(df)"
   ]
  },
  {
   "cell_type": "markdown",
   "metadata": {
    "id": "mFzso5B8cr32"
   },
   "source": [
    "### 1.2 Check NAs (1 pt.)\n",
    "[back to contents](#Contents)"
   ]
  },
  {
   "cell_type": "markdown",
   "metadata": {
    "id": "PQVHcIWgcr32"
   },
   "source": [
    "Check whether ``` df ``` contains missing values(NAs):\n",
    "\n",
    "apply ``` isna().value_counts() ``` to ``` df ```"
   ]
  },
  {
   "cell_type": "code",
   "execution_count": 158,
   "metadata": {
    "colab": {
     "base_uri": "https://localhost:8080/"
    },
    "id": "hBVAhnX6cr32",
    "outputId": "3cd3d941-0c5e-4070-de76-8ae2aab82e92"
   },
   "outputs": [
    {
     "data": {
      "text/plain": [
       "sales  month  day    year \n",
       "False  False  False  False    147\n",
       "dtype: int64"
      ]
     },
     "execution_count": 158,
     "metadata": {},
     "output_type": "execute_result"
    }
   ],
   "source": [
    "# code here (0.5 pt.)\n",
    "df.isna().value_counts()"
   ]
  },
  {
   "cell_type": "markdown",
   "metadata": {
    "id": "raqt_3bocr33"
   },
   "source": [
    "How many missing values are there in ``` df ```?"
   ]
  },
  {
   "cell_type": "code",
   "execution_count": 159,
   "metadata": {
    "colab": {
     "base_uri": "https://localhost:8080/"
    },
    "id": "O9QQ8nAEcr33",
    "outputId": "0c6d6ca4-80ec-454c-e2f2-da5219c4619b"
   },
   "outputs": [
    {
     "name": "stdout",
     "output_type": "stream",
     "text": [
      "sales    0\n",
      "month    0\n",
      "day      0\n",
      "year     0\n",
      "dtype: int64\n"
     ]
    }
   ],
   "source": [
    "# answer (0.5 pt.)\n",
    "print(df.isna().sum())"
   ]
  },
  {
   "cell_type": "markdown",
   "metadata": {
    "id": "8Vtjk1gRcr33"
   },
   "source": [
    "### 1.3 Dates transformation (2 pt.)\n",
    "[back to contents](#Contents)"
   ]
  },
  {
   "cell_type": "markdown",
   "metadata": {
    "id": "45qD3fk8cr33"
   },
   "source": [
    "How are dates represented in the original dataset? "
   ]
  },
  {
   "cell_type": "code",
   "execution_count": 160,
   "metadata": {
    "colab": {
     "base_uri": "https://localhost:8080/"
    },
    "id": "d4_cf6thcr34",
    "outputId": "da5f7500-6ffa-4f99-e3f8-cadf133d80f2"
   },
   "outputs": [
    {
     "name": "stdout",
     "output_type": "stream",
     "text": [
      "sales    float64\n",
      "month      int64\n",
      "day        int64\n",
      "year       int64\n",
      "dtype: object\n"
     ]
    }
   ],
   "source": [
    "# answer (0.5 pt.)\n",
    "print(df.dtypes)"
   ]
  },
  {
   "cell_type": "markdown",
   "metadata": {
    "id": "OAhISKI0cr34"
   },
   "source": [
    "Transform dates to datetime format:\n",
    "\n",
    "``` df['date']=df['...']*10000+df['...']*100+df['...']*1 ```\n",
    "\n",
    "``` df['date']=pd.to_datetime(df['date'], format='%Y%m%d') ```\n",
    "\n",
    "change each ``` df['...'] ``` to one of ``` df['month'] ```, ``` df['year'] ```, ``` df['day'] ```according to ``` format='%Y%m%d'```"
   ]
  },
  {
   "cell_type": "code",
   "execution_count": 161,
   "metadata": {
    "colab": {
     "base_uri": "https://localhost:8080/"
    },
    "id": "_4pjDOcFcr34",
    "outputId": "5dac48ca-a5db-49c0-e7a6-73668f92609a"
   },
   "outputs": [
    {
     "name": "stdout",
     "output_type": "stream",
     "text": [
      "       sales  month  day  year       date\n",
      "0    134.710     10   31  2020 2020-10-31\n",
      "1    137.740      7   31  2020 2020-07-31\n",
      "2    134.620      4   30  2020 2020-04-30\n",
      "3    141.670      1   31  2020 2020-01-31\n",
      "4    127.990     10   31  2019 2019-10-31\n",
      "..       ...    ...  ...   ...        ...\n",
      "142    1.656      4   30  1985 1985-04-30\n",
      "143    2.074      1   31  1985 1985-01-31\n",
      "144    1.584     10   31  1984 1984-10-31\n",
      "145    1.508      7   31  1984 1984-07-31\n",
      "146    1.235      4   30  1984 1984-04-30\n",
      "\n",
      "[147 rows x 5 columns]\n"
     ]
    }
   ],
   "source": [
    "# code here (0.5 pt.)\n",
    "df['date']=df['year']*10000+df['month']*100+df['day']*1\n",
    "df['date']=pd.to_datetime(df['date'], format='%Y%m%d')\n",
    "print(df)"
   ]
  },
  {
   "cell_type": "markdown",
   "metadata": {
    "id": "jfzLYnbZcr35"
   },
   "source": [
    "Change index to dates:\n",
    "\n",
    "``` df.index=.... ```"
   ]
  },
  {
   "cell_type": "code",
   "execution_count": 162,
   "metadata": {
    "colab": {
     "base_uri": "https://localhost:8080/"
    },
    "id": "NKXgVTpwcr35",
    "outputId": "3de805e3-e807-42e8-8e86-996489cab2cb"
   },
   "outputs": [
    {
     "name": "stdout",
     "output_type": "stream",
     "text": [
      "              sales  month  day  year       date\n",
      "date                                            \n",
      "2020-10-31  134.710     10   31  2020 2020-10-31\n",
      "2020-07-31  137.740      7   31  2020 2020-07-31\n",
      "2020-04-30  134.620      4   30  2020 2020-04-30\n",
      "2020-01-31  141.670      1   31  2020 2020-01-31\n",
      "2019-10-31  127.990     10   31  2019 2019-10-31\n",
      "...             ...    ...  ...   ...        ...\n",
      "1985-04-30    1.656      4   30  1985 1985-04-30\n",
      "1985-01-31    2.074      1   31  1985 1985-01-31\n",
      "1984-10-31    1.584     10   31  1984 1984-10-31\n",
      "1984-07-31    1.508      7   31  1984 1984-07-31\n",
      "1984-04-30    1.235      4   30  1984 1984-04-30\n",
      "\n",
      "[147 rows x 5 columns]\n"
     ]
    }
   ],
   "source": [
    "# code here (0.25 pt.)\n",
    "df.index=pd.to_datetime(df.date)\n",
    "print(df)"
   ]
  },
  {
   "cell_type": "markdown",
   "metadata": {
    "id": "C8m5PA0Rcr35"
   },
   "source": [
    "What is the size of the dataset?\n",
    "\n",
    "use ```.shape```"
   ]
  },
  {
   "cell_type": "code",
   "execution_count": 163,
   "metadata": {
    "colab": {
     "base_uri": "https://localhost:8080/"
    },
    "id": "_rgT7FBlcr35",
    "outputId": "d6b13128-cd63-4083-90d7-d2ff9b635fcb"
   },
   "outputs": [
    {
     "name": "stdout",
     "output_type": "stream",
     "text": [
      "(147, 5)\n"
     ]
    }
   ],
   "source": [
    "# code here (0.25 pt.)\n",
    "print(df.shape)"
   ]
  },
  {
   "cell_type": "markdown",
   "metadata": {
    "id": "Vi_zhnMDcr36"
   },
   "source": [
    "Drop columns ['day', 'year','month','date']:\n",
    "\n",
    "```df=df.drop(..., axis=1)```"
   ]
  },
  {
   "cell_type": "code",
   "execution_count": 164,
   "metadata": {
    "colab": {
     "base_uri": "https://localhost:8080/"
    },
    "id": "O_r02XAIkLvJ",
    "outputId": "d438a85c-32d4-416f-80c6-0c206b4afcbb"
   },
   "outputs": [
    {
     "name": "stdout",
     "output_type": "stream",
     "text": [
      "              sales  month  day  year       date\n",
      "date                                            \n",
      "2020-10-31  134.710     10   31  2020 2020-10-31\n",
      "2020-07-31  137.740      7   31  2020 2020-07-31\n",
      "2020-04-30  134.620      4   30  2020 2020-04-30\n",
      "2020-01-31  141.670      1   31  2020 2020-01-31\n",
      "2019-10-31  127.990     10   31  2019 2019-10-31\n",
      "...             ...    ...  ...   ...        ...\n",
      "1985-04-30    1.656      4   30  1985 1985-04-30\n",
      "1985-01-31    2.074      1   31  1985 1985-01-31\n",
      "1984-10-31    1.584     10   31  1984 1984-10-31\n",
      "1984-07-31    1.508      7   31  1984 1984-07-31\n",
      "1984-04-30    1.235      4   30  1984 1984-04-30\n",
      "\n",
      "[147 rows x 5 columns]\n"
     ]
    }
   ],
   "source": [
    "print(df)"
   ]
  },
  {
   "cell_type": "markdown",
   "metadata": {
    "id": "xD8PSKilcr36"
   },
   "source": [
    "What is the size of the dataset now?"
   ]
  },
  {
   "cell_type": "code",
   "execution_count": 165,
   "metadata": {
    "colab": {
     "base_uri": "https://localhost:8080/"
    },
    "id": "Btp4VSmDcr36",
    "outputId": "7c685743-01f1-4878-e699-9ec2f6b6e0a5"
   },
   "outputs": [
    {
     "data": {
      "text/plain": [
       "(147, 5)"
      ]
     },
     "execution_count": 165,
     "metadata": {},
     "output_type": "execute_result"
    }
   ],
   "source": [
    "# code here (0.25 pt.)\n",
    "df.shape"
   ]
  },
  {
   "cell_type": "markdown",
   "metadata": {
    "id": "BbDyuGdzcr37"
   },
   "source": [
    "### 1.4 Plot data (0.75 pt.)\n",
    "[back to contents](#Contents)"
   ]
  },
  {
   "cell_type": "markdown",
   "metadata": {
    "id": "WnrDlaSwcr37"
   },
   "source": [
    "transform data frame column to series:\n",
    "\n",
    "```y=df['date']```"
   ]
  },
  {
   "cell_type": "code",
   "execution_count": 166,
   "metadata": {
    "id": "n4UIPRz8cr37"
   },
   "outputs": [],
   "source": [
    "# code here (0.25 pt.)\n",
    "y=df['sales']"
   ]
  },
  {
   "cell_type": "markdown",
   "metadata": {
    "id": "W4NoU0x7cr37"
   },
   "source": [
    "```plot_series``` gets a series as an argument, whose dates sorted in ascending order.\n",
    "Transform your time series by changing descending order to ascending order:\n",
    "\n",
    "apply ```np.flip``` to ```y``` and name the result ```y```"
   ]
  },
  {
   "cell_type": "code",
   "execution_count": 167,
   "metadata": {
    "colab": {
     "base_uri": "https://localhost:8080/"
    },
    "id": "Q1YYPsUQcr37",
    "outputId": "13733c65-9cad-4ef5-ae3e-e4b347f668e1"
   },
   "outputs": [
    {
     "name": "stdout",
     "output_type": "stream",
     "text": [
      "date\n",
      "1984-04-30      1.235\n",
      "1984-07-31      1.508\n",
      "1984-10-31      1.584\n",
      "1985-01-31      2.074\n",
      "1985-04-30      1.656\n",
      "               ...   \n",
      "2019-10-31    127.990\n",
      "2020-01-31    141.670\n",
      "2020-04-30    134.620\n",
      "2020-07-31    137.740\n",
      "2020-10-31    134.710\n",
      "Name: sales, Length: 147, dtype: float64\n"
     ]
    }
   ],
   "source": [
    "# code here (0.25 pt.)\n",
    "y=np.flip(y)\n",
    "print(y)"
   ]
  },
  {
   "cell_type": "markdown",
   "metadata": {
    "id": "IzYeivgtcr38"
   },
   "source": [
    "Plot the series using ```plot_series()```"
   ]
  },
  {
   "cell_type": "code",
   "execution_count": 168,
   "metadata": {
    "colab": {
     "base_uri": "https://localhost:8080/",
     "height": 299
    },
    "id": "fSBiE2BZcr38",
    "outputId": "eecfef11-df7f-4222-9808-0ae4b48b1b53"
   },
   "outputs": [
    {
     "data": {
      "text/plain": [
       "(<Figure size 1152x288 with 1 Axes>, <AxesSubplot:ylabel='sales'>)"
      ]
     },
     "execution_count": 168,
     "metadata": {},
     "output_type": "execute_result"
    },
    {
     "data": {
      "image/png": "[encoded data removed]",
      "text/plain": [
       "<Figure size 1152x288 with 1 Axes>"
      ]
     },
     "metadata": {
      "needs_background": "light"
     },
     "output_type": "display_data"
    }
   ],
   "source": [
    "# code here (0.25 pt.)\n",
    "plot_series(y)"
   ]
  },
  {
   "cell_type": "markdown",
   "metadata": {
    "id": "adrT2QxMcr38"
   },
   "source": [
    "### 1.5 Split data (0.75 pt.)\n",
    "[back to contents](#Contents)"
   ]
  },
  {
   "cell_type": "markdown",
   "metadata": {
    "id": "sG7XxCgfcr38"
   },
   "source": [
    "Split the data into train and test samples:\n",
    "\n",
    "``` temporal_train_test_split(...) ```\n",
    "\n",
    "choose ``` test_size=0.2 ```"
   ]
  },
  {
   "cell_type": "code",
   "execution_count": 169,
   "metadata": {
    "colab": {
     "base_uri": "https://localhost:8080/",
     "height": 180
    },
    "id": "5yWnlHuucr39",
    "outputId": "ec2d07d5-df36-4973-cbaf-1f72f1098528"
   },
   "outputs": [],
   "source": [
    "# code here (0.5 pt.)\n",
    "y_train, y_test = temporal_train_test_split(y,test_size=0.2)"
   ]
  },
  {
   "cell_type": "markdown",
   "metadata": {
    "id": "1QULB2Vccr39"
   },
   "source": [
    "plot train and test samples using ``` plot_series ```"
   ]
  },
  {
   "cell_type": "code",
   "execution_count": 170,
   "metadata": {
    "colab": {
     "base_uri": "https://localhost:8080/",
     "height": 299
    },
    "id": "o3OzweTJcr39",
    "outputId": "95da1889-547a-4a53-ea96-6aaef7a4b821"
   },
   "outputs": [
    {
     "data": {
      "text/plain": [
       "(<Figure size 1152x288 with 1 Axes>, <AxesSubplot:ylabel='sales'>)"
      ]
     },
     "execution_count": 170,
     "metadata": {},
     "output_type": "execute_result"
    },
    {
     "data": {
      "image/png": "[encoded data removed]",
      "text/plain": [
       "<Figure size 1152x288 with 1 Axes>"
      ]
     },
     "metadata": {
      "needs_background": "light"
     },
     "output_type": "display_data"
    }
   ],
   "source": [
    "# code here (0.25 pt.)\n",
    "plot_series(y_train, y_test, labels=['Trains',['Test']])"
   ]
  },
  {
   "cell_type": "markdown",
   "metadata": {
    "id": "u6POAj8dcr39"
   },
   "source": [
    "## 2. ETS (7 pt.)"
   ]
  },
  {
   "cell_type": "markdown",
   "metadata": {
    "id": "mMCVa7XXcr3-"
   },
   "source": [
    "### 2.1 Estimate ETS (MAA) and (AAM) (1 pt.)\n",
    "[back to contents](#Contents)"
   ]
  },
  {
   "cell_type": "markdown",
   "metadata": {
    "id": "0QURZHvWcr3-"
   },
   "source": [
    "Start with ETS (MAA). Estimate the model and name it ```model_MAA```:\n",
    "\n",
    "```ETSModel(..., error='...', trend='...', seasonal='...', seasonal_periods=...)```\n",
    "\n",
    "```fit_MAA=model_MAA.fit()```\n"
   ]
  },
  {
   "cell_type": "code",
   "execution_count": 171,
   "metadata": {
    "colab": {
     "base_uri": "https://localhost:8080/",
     "height": 214
    },
    "id": "4Uq2VcAncr3-",
    "outputId": "8a8775c1-5297-43f6-c83a-599482c01a1f"
   },
   "outputs": [
    {
     "name": "stdout",
     "output_type": "stream",
     "text": [
      "                                 ETS Results                                  \n",
      "==============================================================================\n",
      "Dep. Variable:                  sales   No. Observations:                  117\n",
      "Model:                       ETS(MAA)   Log Likelihood                -177.074\n",
      "Date:                Thu, 11 Feb 2021   AIC                            374.147\n",
      "Time:                        22:38:45   BIC                            401.769\n",
      "Sample:                    04-30-1984   HQIC                           385.361\n",
      "                         - 04-30-2013   Scale                            0.002\n",
      "Covariance Type:               approx                                         \n",
      "======================================================================================\n",
      "                         coef    std err          z      P>|z|      [0.025      0.975]\n",
      "--------------------------------------------------------------------------------------\n",
      "smoothing_level        0.3363      0.080      4.186      0.000       0.179       0.494\n",
      "smoothing_trend        0.1333      0.035      3.864      0.000       0.066       0.201\n",
      "smoothing_seasonal     0.4801      0.066      7.312      0.000       0.351       0.609\n",
      "initial_level          1.1159        nan        nan        nan         nan         nan\n",
      "initial_trend          0.1101      0.028      3.959      0.000       0.056       0.165\n",
      "initial_seasonal.0     0.5439        nan        nan        nan         nan         nan\n",
      "initial_seasonal.1     0.1413        nan        nan        nan         nan         nan\n",
      "initial_seasonal.2     0.1666        nan        nan        nan         nan         nan\n",
      "initial_seasonal.3          0        nan        nan        nan         nan         nan\n",
      "===================================================================================\n",
      "Ljung-Box (Q):                        7.99   Jarque-Bera (JB):               125.57\n",
      "Prob(Q):                              0.43   Prob(JB):                         0.00\n",
      "Heteroskedasticity (H):               0.35   Skew:                            -0.36\n",
      "Prob(H) (two-sided):                  0.00   Kurtosis:                         8.02\n",
      "===================================================================================\n",
      "\n",
      "Warnings:\n",
      "[1] Covariance matrix calculated using numerical (complex-step) differentiation.\n"
     ]
    },
    {
     "name": "stderr",
     "output_type": "stream",
     "text": [
      "/opt/anaconda3/lib/python3.8/site-packages/statsmodels/tsa/base/tsa_model.py:524: ValueWarning: No frequency information was provided, so inferred frequency Q-OCT will be used.\n",
      "  warnings.warn('No frequency information was'\n"
     ]
    }
   ],
   "source": [
    "# code here (0.5 pt.)\n",
    "model_MAA=ETSModel(y_train, error='mul', trend='add', seasonal='add', seasonal_periods=4)\n",
    "fit_MAA=model_MAA.fit()\n",
    "print(fit_MAA.summary())"
   ]
  },
  {
   "cell_type": "markdown",
   "metadata": {
    "id": "xXG8jEvOcr3-"
   },
   "source": [
    "Estimate ETS (AAM) with the same characteristics:\n",
    "    \n",
    "```ETSModel(..., error='...', trend='...', seasonal='...', seasonal_periods=...)```\n",
    "\n",
    "```fit_AAM=model_AAM.fit()```\n"
   ]
  },
  {
   "cell_type": "code",
   "execution_count": 172,
   "metadata": {
    "colab": {
     "base_uri": "https://localhost:8080/"
    },
    "id": "iZS7fFOWcr3_",
    "outputId": "dcece05f-2a56-46d5-9fc1-60946a8b878a"
   },
   "outputs": [
    {
     "name": "stdout",
     "output_type": "stream",
     "text": [
      "                                 ETS Results                                  \n",
      "==============================================================================\n",
      "Dep. Variable:                  sales   No. Observations:                  117\n",
      "Model:                       ETS(AAM)   Log Likelihood                -241.169\n",
      "Date:                Thu, 11 Feb 2021   AIC                            502.338\n",
      "Time:                        22:38:46   BIC                            529.960\n",
      "Sample:                    04-30-1984   HQIC                           513.552\n",
      "                         - 04-30-2013   Scale                            3.613\n",
      "Covariance Type:               approx                                         \n",
      "======================================================================================\n",
      "                         coef    std err          z      P>|z|      [0.025      0.975]\n",
      "--------------------------------------------------------------------------------------\n",
      "smoothing_level        0.5437      0.107      5.077      0.000       0.334       0.754\n",
      "smoothing_trend        0.0429      0.020      2.098      0.036       0.003       0.083\n",
      "smoothing_seasonal     0.1796      0.046      3.917      0.000       0.090       0.269\n",
      "initial_level          0.9806        nan        nan        nan         nan         nan\n",
      "initial_trend          0.2909        nan        nan        nan         nan         nan\n",
      "initial_seasonal.0     1.0709        nan        nan        nan         nan         nan\n",
      "initial_seasonal.1     0.8274        nan        nan        nan         nan         nan\n",
      "initial_seasonal.2     0.8183        nan        nan        nan         nan         nan\n",
      "initial_seasonal.3     1.0000        nan        nan        nan         nan         nan\n",
      "===================================================================================\n",
      "Ljung-Box (Q):                        7.60   Jarque-Bera (JB):              3185.59\n",
      "Prob(Q):                              0.47   Prob(JB):                         0.00\n",
      "Heteroskedasticity (H):              22.14   Skew:                            -3.60\n",
      "Prob(H) (two-sided):                  0.00   Kurtosis:                        27.53\n",
      "===================================================================================\n",
      "\n",
      "Warnings:\n",
      "[1] Covariance matrix calculated using numerical (complex-step) differentiation.\n"
     ]
    },
    {
     "name": "stderr",
     "output_type": "stream",
     "text": [
      "/opt/anaconda3/lib/python3.8/site-packages/statsmodels/tsa/base/tsa_model.py:524: ValueWarning: No frequency information was provided, so inferred frequency Q-OCT will be used.\n",
      "  warnings.warn('No frequency information was'\n"
     ]
    }
   ],
   "source": [
    "# code here (0.5 pt.)\n",
    "model_AAM=ETSModel(y_train, error='add', trend='add', seasonal='mul', seasonal_periods=4)\n",
    "fit_AAM=model_AAM.fit()\n",
    "print(fit_AAM.summary())"
   ]
  },
  {
   "cell_type": "markdown",
   "metadata": {
    "id": "no3ffiA9cr3_"
   },
   "source": [
    "### 2.2 Point forecasts (1 pt.)\n",
    "[back to contents](#Contents)"
   ]
  },
  {
   "cell_type": "markdown",
   "metadata": {
    "id": "R_gW2hSycr3_"
   },
   "source": [
    "Obtain point forecasts for ETS(MAA) with forecasting horizon=30 quarters:\n",
    "\n",
    "```fit_MAA.forecast(steps=...)```"
   ]
  },
  {
   "cell_type": "code",
   "execution_count": 173,
   "metadata": {
    "colab": {
     "base_uri": "https://localhost:8080/"
    },
    "id": "ewBT5Q5Tcr3_",
    "outputId": "7e495bb8-e0e1-428b-9520-51edae5659b6"
   },
   "outputs": [
    {
     "data": {
      "text/plain": [
       "2013-07-31    117.848870\n",
       "2013-10-31    117.364671\n",
       "2014-01-31    130.725436\n",
       "2014-04-30    117.901780\n",
       "2014-07-31    121.230476\n",
       "2014-10-31    120.746277\n",
       "2015-01-31    134.107043\n",
       "2015-04-30    121.283386\n",
       "2015-07-31    124.612083\n",
       "2015-10-31    124.127884\n",
       "2016-01-31    137.488649\n",
       "2016-04-30    124.664993\n",
       "2016-07-31    127.993690\n",
       "2016-10-31    127.509490\n",
       "2017-01-31    140.870256\n",
       "2017-04-30    128.046600\n",
       "2017-07-31    131.375296\n",
       "2017-10-31    130.891097\n",
       "2018-01-31    144.251863\n",
       "2018-04-30    131.428206\n",
       "2018-07-31    134.756903\n",
       "2018-10-31    134.272704\n",
       "2019-01-31    147.633469\n",
       "2019-04-30    134.809813\n",
       "2019-07-31    138.138509\n",
       "2019-10-31    137.654310\n",
       "2020-01-31    151.015076\n",
       "2020-04-30    138.191419\n",
       "2020-07-31    141.520116\n",
       "2020-10-31    141.035917\n",
       "Freq: Q-OCT, Name: simulation, dtype: float64"
      ]
     },
     "execution_count": 173,
     "metadata": {},
     "output_type": "execute_result"
    }
   ],
   "source": [
    "# code here (0.25 pt.)\n",
    "fit_MAA.forecast(steps=30)"
   ]
  },
  {
   "cell_type": "markdown",
   "metadata": {
    "id": "e7Qt2S2Mcr4A"
   },
   "source": [
    "Obtain point forecasts for ETS(AAM) with forecasting horizon=30 quarters:\n",
    "\n",
    "```fit_AAM.forecast(steps=...)```"
   ]
  },
  {
   "cell_type": "code",
   "execution_count": 174,
   "metadata": {
    "colab": {
     "base_uri": "https://localhost:8080/"
    },
    "id": "0Yw7cmuCcr4A",
    "outputId": "4307f012-78e8-4551-b128-2928d977fa65"
   },
   "outputs": [
    {
     "data": {
      "text/plain": [
       "2013-07-31    119.244377\n",
       "2013-10-31    117.867026\n",
       "2014-01-31    133.457304\n",
       "2014-04-30    118.815286\n",
       "2014-07-31    124.107213\n",
       "2014-10-31    122.625183\n",
       "2015-01-31    138.790994\n",
       "2015-04-30    123.516825\n",
       "2015-07-31    128.970049\n",
       "2015-10-31    127.383340\n",
       "2016-01-31    144.124684\n",
       "2016-04-30    128.218364\n",
       "2016-07-31    133.832885\n",
       "2016-10-31    132.141496\n",
       "2017-01-31    149.458374\n",
       "2017-04-30    132.919903\n",
       "2017-07-31    138.695721\n",
       "2017-10-31    136.899653\n",
       "2018-01-31    154.792064\n",
       "2018-04-30    137.621442\n",
       "2018-07-31    143.558557\n",
       "2018-10-31    141.657810\n",
       "2019-01-31    160.125754\n",
       "2019-04-30    142.322982\n",
       "2019-07-31    148.421392\n",
       "2019-10-31    146.415967\n",
       "2020-01-31    165.459444\n",
       "2020-04-30    147.024521\n",
       "2020-07-31    153.284228\n",
       "2020-10-31    151.174124\n",
       "Freq: Q-OCT, Name: simulation, dtype: float64"
      ]
     },
     "execution_count": 174,
     "metadata": {},
     "output_type": "execute_result"
    }
   ],
   "source": [
    "# code here (0.25 pt.)\n",
    "fit_AAM.forecast(steps=30)"
   ]
  },
  {
   "cell_type": "markdown",
   "metadata": {
    "id": "gtYIANSicr4A"
   },
   "source": [
    "Plot both forecasts (AAM) and (MAA), test and train data\n",
    "\n",
    "```plot_series()```"
   ]
  },
  {
   "cell_type": "code",
   "execution_count": 175,
   "metadata": {
    "colab": {
     "base_uri": "https://localhost:8080/",
     "height": 197
    },
    "id": "q8aZHFq7cr4A",
    "outputId": "a5fe815e-a124-4de8-ae0c-64bcc3bc1886"
   },
   "outputs": [
    {
     "data": {
      "text/plain": [
       "(<Figure size 1152x288 with 1 Axes>, <AxesSubplot:ylabel='sales'>)"
      ]
     },
     "execution_count": 175,
     "metadata": {},
     "output_type": "execute_result"
    },
    {
     "data": {
      "image/png": "[encoded data removed]",
      "text/plain": [
       "<Figure size 1152x288 with 1 Axes>"
      ]
     },
     "metadata": {
      "needs_background": "light"
     },
     "output_type": "display_data"
    },
    {
     "data": {
      "image/png": "[encoded data removed]",
      "text/plain": [
       "<Figure size 1152x288 with 1 Axes>"
      ]
     },
     "metadata": {
      "needs_background": "light"
     },
     "output_type": "display_data"
    }
   ],
   "source": [
    "# code here (0.5 pt.)\n",
    "plot_series(y_train, y_test, fit_AAM.forecast(steps=30), fit_MAA.forecast(steps=30), labels=['Train', 'Test','AAM','MAA'])\n",
    "plot_series(y_test, fit_AAM.forecast(steps=30), fit_MAA.forecast(steps=30), labels=['Test','AAM','MAA'])"
   ]
  },
  {
   "cell_type": "markdown",
   "metadata": {
    "id": "bEsmQF6Tcr4B"
   },
   "source": [
    "### 2.3 Interval forecasts ETS(MAA) (1 pt.)\n",
    "[back to contents](#Contents)"
   ]
  },
  {
   "cell_type": "markdown",
   "metadata": {
    "id": "vd759mJ5cr4B"
   },
   "source": [
    "Get 95% confidence intervals:\n",
    "\n",
    "```pred_MAA=fit_MAA.get_prediction(start='2013-07-31', end='2020-10-31') ```\n",
    "\n",
    "``` pred_MAA=pred_MAA.summary_frame(alpha=0.05) ```\n",
    "\n",
    "Expract upper and lower bounds from ```pred_MAA``` and name them ```upper_int``` and ```lower_int```\n"
   ]
  },
  {
   "cell_type": "code",
   "execution_count": 176,
   "metadata": {
    "colab": {
     "base_uri": "https://localhost:8080/"
    },
    "id": "2aGYoW50cr4B",
    "outputId": "79ffc02f-0509-476a-8949-e833bade4879"
   },
   "outputs": [
    {
     "name": "stdout",
     "output_type": "stream",
     "text": [
      "2013-07-31    108.358918\n",
      "2013-10-31    106.588908\n",
      "2014-01-31    117.000228\n",
      "2014-04-30    102.856601\n",
      "2014-07-31    102.003591\n",
      "2014-10-31     97.930585\n",
      "2015-01-31    109.063683\n",
      "2015-04-30     93.409112\n",
      "2015-07-31     91.673591\n",
      "2015-10-31     87.182009\n",
      "2016-01-31     97.155696\n",
      "2016-04-30     80.812377\n",
      "2016-07-31     79.748658\n",
      "2016-10-31     71.707171\n",
      "2017-01-31     82.999575\n",
      "2017-04-30     66.265458\n",
      "2017-07-31     61.844140\n",
      "2017-10-31     56.863640\n",
      "2018-01-31     66.906262\n",
      "2018-04-30     49.103190\n",
      "2018-07-31     44.226840\n",
      "2018-10-31     41.592068\n",
      "2019-01-31     48.801787\n",
      "2019-04-30     31.718752\n",
      "2019-07-31     27.209397\n",
      "2019-10-31     25.121805\n",
      "2020-01-31     32.658488\n",
      "2020-04-30     13.974566\n",
      "2020-07-31      9.076180\n",
      "2020-10-31      5.539465\n",
      "Freq: Q-OCT, Name: pi_lower, dtype: float64 2013-07-31    127.389431\n",
      "2013-10-31    129.070814\n",
      "2014-01-31    144.414794\n",
      "2014-04-30    133.002157\n",
      "2014-07-31    142.709153\n",
      "2014-10-31    144.961485\n",
      "2015-01-31    162.161675\n",
      "2015-04-30    151.590503\n",
      "2015-07-31    162.262663\n",
      "2015-10-31    166.652806\n",
      "2016-01-31    183.282012\n",
      "2016-04-30    177.832407\n",
      "2016-07-31    187.558802\n",
      "2016-10-31    191.195833\n",
      "2017-01-31    209.336270\n",
      "2017-04-30    202.481440\n",
      "2017-07-31    212.097725\n",
      "2017-10-31    220.802065\n",
      "2018-01-31    241.639620\n",
      "2018-04-30    237.525380\n",
      "2018-07-31    250.948812\n",
      "2018-10-31    252.242634\n",
      "2019-01-31    275.413817\n",
      "2019-04-30    265.218150\n",
      "2019-07-31    274.777851\n",
      "2019-10-31    288.112714\n",
      "2020-01-31    307.620815\n",
      "2020-04-30    307.121395\n",
      "2020-07-31    315.595751\n",
      "2020-10-31    324.890104\n",
      "Freq: Q-OCT, Name: pi_upper, dtype: float64\n"
     ]
    }
   ],
   "source": [
    "# code here (0.5 pt.)\n",
    "pred_MAA=fit_MAA.get_prediction(start='2013-07-31', end='2020-10-31')\n",
    "pred_MAA=pred_MAA.summary_frame(alpha=0.05)\n",
    "lower_int=pred_MAA.pi_lower\n",
    "upper_int=pred_MAA.pi_upper\n",
    "print(lower_int,upper_int)"
   ]
  },
  {
   "cell_type": "markdown",
   "metadata": {
    "id": "ee68db4acr4B"
   },
   "source": [
    "Plot interval predictions:\n",
    "\n",
    "```plot_series()```"
   ]
  },
  {
   "cell_type": "code",
   "execution_count": 177,
   "metadata": {
    "colab": {
     "base_uri": "https://localhost:8080/",
     "height": 310
    },
    "id": "xGaIkpw9cr4C",
    "outputId": "2da1cd42-fd1c-4d35-a138-0a0a6bc7326b",
    "scrolled": true
   },
   "outputs": [
    {
     "data": {
      "text/plain": [
       "(<Figure size 1152x288 with 1 Axes>, <AxesSubplot:ylabel='pi_upper'>)"
      ]
     },
     "execution_count": 177,
     "metadata": {},
     "output_type": "execute_result"
    },
    {
     "data": {
      "image/png": "[encoded data removed]",
      "text/plain": [
       "<Figure size 1152x288 with 1 Axes>"
      ]
     },
     "metadata": {
      "needs_background": "light"
     },
     "output_type": "display_data"
    }
   ],
   "source": [
    "# code here (0.5 pt.)\n",
    "plot_series(upper_int, lower_int, labels=['Upper','Lower'])"
   ]
  },
  {
   "cell_type": "markdown",
   "metadata": {
    "id": "d1-vZT0Gcr4C"
   },
   "source": [
    "### 2.4 Interval forecasts ETS(AAM) (1 pt.)\n",
    "[back to contents](#Contents)"
   ]
  },
  {
   "cell_type": "markdown",
   "metadata": {
    "id": "rI_dHCKacr4C"
   },
   "source": [
    "Get 95% confidence intervals:\n",
    "\n",
    "``` pred_AAM=fit_AAM.get_prediction(start='2013-07-31', end='2020-10-31') ```\n",
    "\n",
    "``` pred_AAM=pred_AAM.summary_frame(alpha=0.05) ```\n",
    "\n",
    "Expract upper and lower bounds from ```pred_MAA``` and name them ```upper_int``` and ```lower_int```"
   ]
  },
  {
   "cell_type": "code",
   "execution_count": 178,
   "metadata": {
    "colab": {
     "base_uri": "https://localhost:8080/"
    },
    "id": "GUGANP7ncr4C",
    "outputId": "955980b3-4877-4e13-85ce-93818bb85d9e"
   },
   "outputs": [
    {
     "name": "stdout",
     "output_type": "stream",
     "text": [
      "2013-07-31    115.635227\n",
      "2013-10-31    113.847988\n",
      "2014-01-31    128.743706\n",
      "2014-04-30    113.557979\n",
      "2014-07-31    117.544466\n",
      "2014-10-31    115.923051\n",
      "2015-01-31    130.940564\n",
      "2015-04-30    115.693048\n",
      "2015-07-31    119.721277\n",
      "2015-10-31    117.950651\n",
      "2016-01-31    132.986120\n",
      "2016-04-30    117.927723\n",
      "2016-07-31    122.031059\n",
      "2016-10-31    120.017260\n",
      "2017-01-31    135.277559\n",
      "2017-04-30    120.259737\n",
      "2017-07-31    124.928342\n",
      "2017-10-31    121.722010\n",
      "2018-01-31    137.799897\n",
      "2018-04-30    121.909783\n",
      "2018-07-31    125.632363\n",
      "2018-10-31    123.325155\n",
      "2019-01-31    138.378265\n",
      "2019-04-30    123.599015\n",
      "2019-07-31    128.224300\n",
      "2019-10-31    124.485709\n",
      "2020-01-31    140.570207\n",
      "2020-04-30    123.990525\n",
      "2020-07-31    127.784124\n",
      "2020-10-31    126.076603\n",
      "Freq: Q-OCT, Name: pi_lower, dtype: float64 2013-07-31    123.074998\n",
      "2013-10-31    122.341120\n",
      "2014-01-31    138.616328\n",
      "2014-04-30    124.215219\n",
      "2014-07-31    130.498806\n",
      "2014-10-31    129.930825\n",
      "2015-01-31    147.321082\n",
      "2015-04-30    132.083733\n",
      "2015-07-31    138.304622\n",
      "2015-10-31    137.162728\n",
      "2016-01-31    155.739338\n",
      "2016-04-30    138.983756\n",
      "2016-07-31    146.017800\n",
      "2016-10-31    144.706086\n",
      "2017-01-31    164.775612\n",
      "2017-04-30    146.458508\n",
      "2017-07-31    153.337169\n",
      "2017-10-31    152.730707\n",
      "2018-01-31    173.674441\n",
      "2018-04-30    154.639569\n",
      "2018-07-31    162.505508\n",
      "2018-10-31    160.848202\n",
      "2019-01-31    182.335317\n",
      "2019-04-30    163.006299\n",
      "2019-07-31    171.087818\n",
      "2019-10-31    168.608137\n",
      "2020-01-31    191.046658\n",
      "2020-04-30    171.168746\n",
      "2020-07-31    179.566435\n",
      "2020-10-31    177.615459\n",
      "Freq: Q-OCT, Name: pi_upper, dtype: float64\n"
     ]
    }
   ],
   "source": [
    "# code here (0.5 pt.)\n",
    "pred_AAM=fit_AAM.get_prediction(start='2013-07-31', end='2020-10-31')\n",
    "pred_AAM=pred_AAM.summary_frame(alpha=0.05)\n",
    "lower_int=pred_AAM.pi_lower\n",
    "upper_int=pred_AAM.pi_upper\n",
    "print(lower_int,upper_int)"
   ]
  },
  {
   "cell_type": "markdown",
   "metadata": {
    "id": "YUrZnxOhcr4D"
   },
   "source": [
    "Plot interval predictions:\n",
    "\n",
    "```plot_series()```"
   ]
  },
  {
   "cell_type": "code",
   "execution_count": 179,
   "metadata": {
    "colab": {
     "base_uri": "https://localhost:8080/",
     "height": 299
    },
    "id": "FwxXlwiccr4D",
    "outputId": "f8d31898-8ee3-416d-aa93-2cdf4ae0b219",
    "scrolled": true
   },
   "outputs": [
    {
     "data": {
      "text/plain": [
       "(<Figure size 1152x288 with 1 Axes>, <AxesSubplot:ylabel='pi_upper'>)"
      ]
     },
     "execution_count": 179,
     "metadata": {},
     "output_type": "execute_result"
    },
    {
     "data": {
      "image/png": "[encoded data removed]",
      "text/plain": [
       "<Figure size 1152x288 with 1 Axes>"
      ]
     },
     "metadata": {
      "needs_background": "light"
     },
     "output_type": "display_data"
    }
   ],
   "source": [
    "# code here (0.5 pt.)\n",
    "plot_series(upper_int, lower_int, labels=['Upper','Lower'])"
   ]
  },
  {
   "cell_type": "markdown",
   "metadata": {
    "id": "jNLPkKihcr4D"
   },
   "source": [
    "### 2.5 Forecast quality metrics (2 pt.)\n",
    "[back to contents](#Contents)"
   ]
  },
  {
   "cell_type": "markdown",
   "metadata": {
    "id": "g9vjJ5y7cr4D"
   },
   "source": [
    "Calculate the following metrics for both ETS(MAA) and ETS(AAM) predictions:"
   ]
  },
  {
   "cell_type": "markdown",
   "metadata": {
    "id": "vyp9B2-gcr4E"
   },
   "source": [
    "$MAE = \\frac{\\sum\\limits_{i=1}^n |y_i-\\hat{y}_i|}{n}$\n",
    "\n",
    "```python\n",
    "sklearn.metrics.mean_absolute_error\n",
    "```"
   ]
  },
  {
   "cell_type": "code",
   "execution_count": 180,
   "metadata": {
    "colab": {
     "base_uri": "https://localhost:8080/",
     "height": 180
    },
    "id": "M3NR4ofvcr4E",
    "outputId": "47bcc7d5-97ae-4ca9-946a-fe50d1511610"
   },
   "outputs": [
    {
     "data": {
      "text/plain": [
       "6.394542702158996"
      ]
     },
     "execution_count": 180,
     "metadata": {},
     "output_type": "execute_result"
    }
   ],
   "source": [
    "# code here (0.5 pt.)\n",
    "mean_absolute_error(y_test, fit_MAA.forecast(steps=30))"
   ]
  },
  {
   "cell_type": "code",
   "execution_count": 181,
   "metadata": {
    "colab": {
     "base_uri": "https://localhost:8080/",
     "height": 180
    },
    "id": "acooo3Uqcr4F",
    "outputId": "373be0ce-8cf3-4244-c7b6-eda6bf082fc0"
   },
   "outputs": [
    {
     "data": {
      "text/plain": [
       "12.708898765471032"
      ]
     },
     "execution_count": 181,
     "metadata": {},
     "output_type": "execute_result"
    }
   ],
   "source": [
    "# code here (0.5 pt.) AAM\n",
    "mean_absolute_error(y_test, fit_AAM.forecast(steps=30))"
   ]
  },
  {
   "cell_type": "markdown",
   "metadata": {
    "id": "N0jy12QKcr4F"
   },
   "source": [
    "$MSE = \\frac{\\sum\\limits_{i=1}^n (y_i-\\hat{y}_i)^2}{n}$\n",
    "\n",
    "```python\n",
    "sklearn.metrics.mean_squared_error\n",
    "```"
   ]
  },
  {
   "cell_type": "code",
   "execution_count": 182,
   "metadata": {
    "id": "EXCTdJ0ncr4F"
   },
   "outputs": [
    {
     "data": {
      "text/plain": [
       "50.57141271152441"
      ]
     },
     "execution_count": 182,
     "metadata": {},
     "output_type": "execute_result"
    }
   ],
   "source": [
    "# code here (0.5 pt.) MAA\n",
    "mean_squared_error(y_test, fit_MAA.forecast(steps=30))"
   ]
  },
  {
   "cell_type": "code",
   "execution_count": 183,
   "metadata": {
    "id": "zb_GAletcr4G"
   },
   "outputs": [
    {
     "data": {
      "text/plain": [
       "195.96214763396836"
      ]
     },
     "execution_count": 183,
     "metadata": {},
     "output_type": "execute_result"
    }
   ],
   "source": [
    "# code here (0.5 pt.) AAM\n",
    "mean_squared_error(y_test, fit_AAM.forecast(steps=30))"
   ]
  },
  {
   "cell_type": "markdown",
   "metadata": {
    "id": "KKhttknCcr4G"
   },
   "source": [
    "$MAPE = \\frac{100}{n}\\frac{\\sum\\limits_{i=1}^n |y_i-\\hat{y}_i|}{y_i}$ \n",
    "\n",
    "```python\n",
    "def mean_absolute_percentage_error(y_true, y_pred): \n",
    "    return np.mean(np.abs((y_true - y_pred) / y_true)) * 100\n",
    "```"
   ]
  },
  {
   "cell_type": "markdown",
   "metadata": {
    "id": "TIrjLLNDcr4G"
   },
   "source": [
    "Create a new function to calculate MAPE"
   ]
  },
  {
   "cell_type": "code",
   "execution_count": 184,
   "metadata": {
    "id": "YjLDOK49cr4G"
   },
   "outputs": [],
   "source": [
    "# code here (0.5 pt.)\n",
    "def mean_absolute_percentage_error(y_true, y_pred): \n",
    "    return np.mean(np.abs((y_true - y_pred) / y_true)) * 100"
   ]
  },
  {
   "cell_type": "markdown",
   "metadata": {
    "id": "9OSrpyxWcr4G"
   },
   "source": [
    "Calculate MAPE:"
   ]
  },
  {
   "cell_type": "code",
   "execution_count": 185,
   "metadata": {
    "id": "EK2B_3-qcr4H"
   },
   "outputs": [
    {
     "data": {
      "text/plain": [
       "5.091697969378487"
      ]
     },
     "execution_count": 185,
     "metadata": {},
     "output_type": "execute_result"
    }
   ],
   "source": [
    "# code here (0.25 pt.) MAA\n",
    "mean_absolute_percentage_error(y_test, fit_MAA.forecast(steps=30))"
   ]
  },
  {
   "cell_type": "code",
   "execution_count": 186,
   "metadata": {
    "id": "YDocwvIdcr4H"
   },
   "outputs": [
    {
     "data": {
      "text/plain": [
       "9.993317967703987"
      ]
     },
     "execution_count": 186,
     "metadata": {},
     "output_type": "execute_result"
    }
   ],
   "source": [
    "# code here (0.25 pt.) AAM\n",
    "mean_absolute_percentage_error(y_test, fit_AAM.forecast(steps=30))"
   ]
  },
  {
   "cell_type": "markdown",
   "metadata": {
    "id": "RbGWREG2cr4H"
   },
   "source": [
    "### 2.6 What is the best model according to the metrics above? (1 pt.)"
   ]
  },
  {
   "cell_type": "code",
   "execution_count": 154,
   "metadata": {
    "id": "N2kYkin1cr4H"
   },
   "outputs": [
    {
     "name": "stdout",
     "output_type": "stream",
     "text": [
      "MAA\n"
     ]
    }
   ],
   "source": [
    "# code here (1 pt.)\n",
    "print('MAA')"
   ]
  },
  {
   "cell_type": "code",
   "execution_count": null,
   "metadata": {},
   "outputs": [],
   "source": []
  }
 ],
 "metadata": {
  "colab": {
   "collapsed_sections": [],
   "name": "HW1.ipynb",
   "provenance": []
  },
  "kernelspec": {
   "display_name": "Python 3",
   "language": "python",
   "name": "python3"
  },
  "language_info": {
   "codemirror_mode": {
    "name": "ipython",
    "version": 3
   },
   "file_extension": ".py",
   "mimetype": "text/x-python",
   "name": "python",
   "nbconvert_exporter": "python",
   "pygments_lexer": "ipython3",
   "version": "3.8.5"
  }
 },
 "nbformat": 4,
 "nbformat_minor": 1
}
